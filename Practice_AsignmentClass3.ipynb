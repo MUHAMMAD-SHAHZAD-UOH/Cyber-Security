{
  "cells": [
    {
      "cell_type": "markdown",
      "metadata": {
        "id": "view-in-github",
        "colab_type": "text"
      },
      "source": [
        "<a href=\"https://colab.research.google.com/github/MUHAMMAD-SHAHZAD-UOH/Cyber-Security/blob/main/Practice_AsignmentClass3.ipynb\" target=\"_parent\"><img src=\"https://colab.research.google.com/assets/colab-badge.svg\" alt=\"Open In Colab\"/></a>"
      ]
    },
    {
      "cell_type": "markdown",
      "id": "f6519aad",
      "metadata": {
        "id": "f6519aad"
      },
      "source": [
        "# User input"
      ]
    },
    {
      "cell_type": "code",
      "source": [],
      "metadata": {
        "id": "3N88lTfPYU1U"
      },
      "id": "3N88lTfPYU1U",
      "execution_count": null,
      "outputs": []
    },
    {
      "cell_type": "raw",
      "id": "948191fe",
      "metadata": {
        "id": "948191fe"
      },
      "source": [
        "1. Take a sentence input from user using input function. Count occurence of a particular character/word in the sentence and print the message that the character appear this many times in the sentence.\n",
        "Like if user inputs> \"My name is Sana. I am an undergraduate student. I am learning Artificial Intellegence in PIAIC\"\n",
        "Your output should be:\n",
        "    I appears 5 times in your sentence\n",
        "Hint: nahi batounga use string methods.\n",
        "Note: Sana is a boy. His full name is SanaUllah😄"
      ]
    },
    {
      "cell_type": "code",
      "source": [
        "a=input('Enter a Sentence')\n",
        "print(a.count('I'))"
      ],
      "metadata": {
        "id": "VqKjVASEYcTv",
        "outputId": "8377a1a3-933d-433a-c979-bcb34606accf",
        "colab": {
          "base_uri": "https://localhost:8080/"
        }
      },
      "id": "VqKjVASEYcTv",
      "execution_count": 3,
      "outputs": [
        {
          "output_type": "stream",
          "name": "stdout",
          "text": [
            "Enter a SentenceMy name is Sana. I am an undergraduate student. I am learning Artificial Intellegence in PIAIC\"\n",
            "5\n"
          ]
        }
      ]
    },
    {
      "cell_type": "raw",
      "id": "bf6c3672",
      "metadata": {
        "id": "bf6c3672"
      },
      "source": [
        "2. Take a number input from user and print the square of that number. \n",
        "\n",
        "if a user inputs 10 Your output should be like:\n",
        "    The square of 10 is 100\n",
        "if a user inputs 5 Your output should be like:\n",
        "    The square of 5 is 25\n",
        "if a user inputs 2 Your output should be like:\n",
        "    The square of 2 is 4\n"
      ]
    },
    {
      "cell_type": "code",
      "source": [
        "a = int(input('Enter a number'))\n",
        "print(\"square of \",a,' is ',a*a)"
      ],
      "metadata": {
        "id": "0VRcVbtcagsw",
        "outputId": "6af97eae-d938-47d5-bbc1-2640e0ff30aa",
        "colab": {
          "base_uri": "https://localhost:8080/"
        }
      },
      "id": "0VRcVbtcagsw",
      "execution_count": 7,
      "outputs": [
        {
          "output_type": "stream",
          "name": "stdout",
          "text": [
            "Enter a number15\n",
            "square of  15  is  225\n"
          ]
        }
      ]
    },
    {
      "cell_type": "raw",
      "id": "0da0f529",
      "metadata": {
        "id": "0da0f529"
      },
      "source": [
        "3. Take two inputs from user using two input functions add these two numbers and print the result.\n",
        "For example if a user inputs 10 in first input, 20 in second input then your output mustbe like:\n",
        "    The sum of 10 and 20 is 30\n",
        "    \n",
        "For example if a user inputs 12 in first input, 30 in second input then your output mustbe like:\n",
        "    The sum of 12 and 30 is 42\n",
        "\n",
        "For example if a user inputs 100 in first input, 200 in second input then your out put mustbe like:\n",
        "    The sum of 100 and 200 is 300"
      ]
    },
    {
      "cell_type": "code",
      "source": [
        "a= int(input('Enter a number'))\n",
        "b= int(input('Enter another number'))\n",
        "print(\"the sum of \",a,\" and \",b,\" is \",a+b)"
      ],
      "metadata": {
        "id": "8_c1IIl6bRTJ",
        "outputId": "5a8cf1c1-8387-474d-f4ac-13edb37a117a",
        "colab": {
          "base_uri": "https://localhost:8080/"
        }
      },
      "id": "8_c1IIl6bRTJ",
      "execution_count": 14,
      "outputs": [
        {
          "output_type": "stream",
          "name": "stdout",
          "text": [
            "Enter a number10\n",
            "Enter another number20\n",
            "the sum of  10  and  20  is  30\n"
          ]
        }
      ]
    },
    {
      "cell_type": "raw",
      "id": "f957eb50",
      "metadata": {
        "id": "f957eb50"
      },
      "source": [
        "4. Format a string to display a card like string:\n",
        "    \n",
        "            Presidential Initiative for AI & Computing\n",
        "                          ID CARD\n",
        "            Student Name   : Asad Ali\n",
        "            Father Name    : Amjad Ali\n",
        "            Date of Birth  : 01-01-2000\n",
        "            Course Enrolled: Artificial Intelligence\n",
        "            Batch          : 2022\n",
        "            Day            : Saturday \n",
        "            Centre         : Sir Syed University of Engg and Technology\n",
        "                \n",
        "Note: all the field values must be taken as user inputs and stored in variable"
      ]
    },
    {
      "cell_type": "code",
      "source": [
        "name=input('Enter your name')\n",
        "fname = input('Enter your father name')\n",
        "dob = input('Enter your date of birth')\n",
        "course = input('Enter your course')\n",
        "batch = input('Enter your batch')\n",
        "Day = input('Enter the Day')\n",
        "centre = input('Enter the centre')\n",
        "\n",
        "print(\" Presidential Initiative for AI & Computing\",\n",
        "\"\\n\\t\\tID Card\",\n",
        "\"\\nSTUDENT NAME\\t:\\t\",name,\n",
        "\"\\nFATHER NAME\\t:\\t\",fname,\n",
        "\"\\nDATE OF BIRTH\\t:\\t\",dob,\n",
        "\"\\nCOURSE\\t\\t:\\t\",course,\n",
        "\"\\nBATCH\\t\\t:\\t\",batch,\n",
        "\"\\nDATE\\t\\t:\\t\",Day,\n",
        "\"\\nCENTRE\\t\\t:\\t\",centre)"
      ],
      "metadata": {
        "id": "g2jEeN0WdUDq",
        "outputId": "1c38a10c-6caa-46fa-f8a0-a0fa4998bf4d",
        "colab": {
          "base_uri": "https://localhost:8080/"
        }
      },
      "id": "g2jEeN0WdUDq",
      "execution_count": 19,
      "outputs": [
        {
          "output_type": "stream",
          "name": "stdout",
          "text": [
            "Enter your nameAsad Ali\n",
            "Enter your father nameAmjad Ali\n",
            "Enter your date of birth01-01-2000\n",
            "Enter your courseArtificial Intelligence\n",
            "Enter your batch2022\n",
            "Enter the Daysaturday\n",
            "Enter the centreSir Syed University of Engg and Technology\n",
            " Presidential Initiative for AI & Computing \n",
            "\t\tID Card \n",
            "STUDENT NAME\t:\t Asad Ali \n",
            "FATHER NAME\t:\t Amjad Ali \n",
            "DATE OF BIRTH\t:\t 01-01-2000 \n",
            "COURSE\t\t:\t Artificial Intelligence \n",
            "BATCH\t\t:\t 2022 \n",
            "DATE\t\t:\t saturday \n",
            "CENTRE\t\t:\t Sir Syed University of Engg and Technology\n"
          ]
        }
      ]
    },
    {
      "cell_type": "code",
      "execution_count": null,
      "id": "0f2d4d2d",
      "metadata": {
        "id": "0f2d4d2d"
      },
      "outputs": [],
      "source": []
    }
  ],
  "metadata": {
    "kernelspec": {
      "display_name": "Python 3",
      "language": "python",
      "name": "python3"
    },
    "language_info": {
      "codemirror_mode": {
        "name": "ipython",
        "version": 3
      },
      "file_extension": ".py",
      "mimetype": "text/x-python",
      "name": "python",
      "nbconvert_exporter": "python",
      "pygments_lexer": "ipython3",
      "version": "3.7.4"
    },
    "colab": {
      "provenance": [],
      "include_colab_link": true
    }
  },
  "nbformat": 4,
  "nbformat_minor": 5
}